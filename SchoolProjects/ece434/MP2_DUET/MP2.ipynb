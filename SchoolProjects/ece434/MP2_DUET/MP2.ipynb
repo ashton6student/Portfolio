{
 "cells": [
  {
   "cell_type": "markdown",
   "metadata": {
    "id": "dPszpz29ddUD"
   },
   "source": [
    "# ECE/CS 434 | MP2: DUET\n",
    "<br />\n",
    "<nav>\n",
    "    <span class=\"alert alert-block alert-warning\">Due on Wednesday March 3 11:59PM on Gradescope</span>\n",
    "   \n",
    "</nav><br> \n"
   ]
  },
  {
   "cell_type": "markdown",
   "metadata": {
    "id": "4t9qXUJkddUH"
   },
   "source": [
    "## Objective\n",
    "In this MP, you will:\n",
    "- Implement DUET algorithm to separate a mixture of N voice signals from received from two microphones"
   ]
  },
  {
   "cell_type": "markdown",
   "metadata": {
    "id": "7g3IdFpLddUH"
   },
   "source": [
    "---\n",
    "## Problem Overview\n",
    "Consider a problem of separating N sources ($S_1$, $S_2$, ... $S_N$) from recordings on 2 microphones ($R_1$ and $R_2$).\n",
    "According to DUET algorithm, you will need to perform the following steps:\n",
    "\n",
    "- Calculate the short-time Fourier transform of two received signals to get the time-frequency spectrograms\n",
    "- Calculate the ratio of the two time-frequency spectrograms to get relative delay and attenuation\n",
    "- Cluster the time-frequency bins in the 2D space spanned by relative delay and attenuation\n",
    "- Recover the original N signals based on the clustering results\n",
    "\n",
    "You can refer to the original DUET paper in ICASSP 2000: \"Blind separation of disjoint orthogonal signals: demixing N sources from 2 mixtures\" and this tutorial in Blind speech separation, 2007 - Springer: \"The DUET blind source separation algorithm\"\n",
    "\n",
    "For the sake of easier clustering, the exact number of sources N will be provided to you.\n",
    "\n",
    "You can assume there is no time-frequency bin collision for any two sources."
   ]
  },
  {
   "cell_type": "markdown",
   "metadata": {
    "id": "-nC62qJrddUI"
   },
   "source": [
    "---\n",
    "## Imports & Setup\n",
    "To run the grading script of this MP, you will need to install the Python [SpeechRecognition](https://pypi.org/project/SpeechRecognition/) package. The SpeechRecognition package also requires the dependency [pocketsphinx](https://pypi.org/project/pocketsphinx/). You may directly use pip install to install both packages.\n",
    "The following `code` cell, when run, imports the libraries you might need for this MP. Feel free to delete or import other commonly used libraries. Double check with the TA if you are unsure if a library is supported."
   ]
  },
  {
   "cell_type": "code",
   "execution_count": 35,
   "metadata": {
    "id": "Uh9Jqy_YddUI"
   },
   "outputs": [],
   "source": [
    "import numpy as np\n",
    "import scipy\n",
    "from scipy.io import wavfile\n",
    "from scipy.io.wavfile import write\n",
    "from scipy.signal import stft, istft\n",
    "import speech_recognition as sr\n",
    "# import matplotlib.pyplot as plt\n",
    "# from IPython.display import Audio\n",
    "\n",
    "if __name__ == '__main__':\n",
    "    import matplotlib.pyplot as plt\n",
    "    plt.style.use(\"seaborn\") # This sets the matplotlib color scheme to something more soothing\n",
    "    from IPython import get_ipython\n",
    "    get_ipython().run_line_magic('matplotlib', 'inline')\n",
    "\n",
    "# This function is used to format test results. You don't need to touch it.\n",
    "def display_table(data):\n",
    "    from IPython.display import HTML, display\n",
    "    html = \"<table>\"\n",
    "    for row in data:\n",
    "        html += \"<tr>\"\n",
    "        for field in row:\n",
    "            html += \"<td><h4>%s</h4><td>\"%(field)\n",
    "        html += \"</tr>\"\n",
    "    html += \"</table>\"\n",
    "    display(HTML(html))"
   ]
  },
  {
   "cell_type": "markdown",
   "metadata": {
    "id": "ljqhWoW4ddUJ"
   },
   "source": [
    "### Sanity-check\n",
    "\n",
    "Running the following code block verifies that the correct module versions are indeed being used. \n",
    "\n",
    "Try restarting the Python kernel (or Jupyter) if there is a mismatch even after intalling the correct version. This might happen because Python's `import` statement does not reload already-loaded modules even if they are updated."
   ]
  },
  {
   "cell_type": "code",
   "execution_count": 36,
   "metadata": {
    "id": "dixvUHQ_ddUK"
   },
   "outputs": [
    {
     "data": {
      "text/html": [
       "<text style='color:#4caf50;weight:700;'>[✓] scipy version 1.7.2 is correct.</text>"
      ],
      "text/plain": [
       "<IPython.core.display.HTML object>"
      ]
     },
     "metadata": {},
     "output_type": "display_data"
    },
    {
     "data": {
      "text/html": [
       "<text style='color:#4caf50;weight:700;'>[✓] speech_recognition version 3.9.0 is correct.</text>"
      ],
      "text/plain": [
       "<IPython.core.display.HTML object>"
      ]
     },
     "metadata": {},
     "output_type": "display_data"
    },
    {
     "data": {
      "text/html": [
       "<text style='color:#4caf50;weight:700;'>[✓] numpy version 1.21.3 is correct.</text>"
      ],
      "text/plain": [
       "<IPython.core.display.HTML object>"
      ]
     },
     "metadata": {},
     "output_type": "display_data"
    },
    {
     "data": {
      "text/html": [
       "<text style='color:#4caf50;weight:700;'>[✓] matplotlib version 3.4.3 is correct.</text>"
      ],
      "text/plain": [
       "<IPython.core.display.HTML object>"
      ]
     },
     "metadata": {},
     "output_type": "display_data"
    },
    {
     "data": {
      "text/html": [
       "<text style='color:#4caf50;weight:700;'>[✓] scipy version 1.7.2 is correct.</text>"
      ],
      "text/plain": [
       "<IPython.core.display.HTML object>"
      ]
     },
     "metadata": {},
     "output_type": "display_data"
    }
   ],
   "source": [
    "if __name__ == '__main__':\n",
    "    from IPython.display import display, HTML\n",
    "\n",
    "    def printc(text, color):\n",
    "        display(HTML(\"<text style='color:{};weight:700;'>{}</text>\".format(color, text)))\n",
    "\n",
    "    _requirements = [r.split(\"==\") for r in open(\n",
    "        \"packages.txt\", \"r\").read().split(\"\\n\")]\n",
    "\n",
    "    import sys\n",
    "    for (module, expected_version) in _requirements:\n",
    "        try:\n",
    "            if sys.modules[module].__version__ != expected_version:\n",
    "                printc(\"[✕] {} version should to be {}, but {} is installed.\".format(\n",
    "                    module, expected_version, sys.modules[module].__version__), \"#f44336\")\n",
    "            else:\n",
    "                printc(\"[✓] {} version {} is correct.\".format(\n",
    "                    module, expected_version), \"#4caf50\")\n",
    "        except:\n",
    "            printc(\"[–] {} is not imported, skipping version check.\".format(\n",
    "                module), \"#03a9f4\")"
   ]
  },
  {
   "cell_type": "markdown",
   "metadata": {
    "id": "JRrGNFqRddUK"
   },
   "source": [
    "---\n",
    "## Your Implementation\n",
    "Implement your localization algorithm in the function `duet_source_separation(mic_data_folder, NUM_SOURCES)`. Do **NOT** change its function signature. You are, however, free to define and use helper functions. \n",
    "\n",
    "Your implementation for `duet_source_separation` function should **NOT** output any plots or data. It should only return the user's calculated location."
   ]
  },
  {
   "cell_type": "code",
   "execution_count": 37,
   "metadata": {},
   "outputs": [],
   "source": [
    "# def duet_source_separation(mic_data_folder, NUM_SOURCES):\n",
    "#     filename1 = mic_data_folder + \"/0.wav\"\n",
    "#     filename2 = mic_data_folder + \"/1.wav\"\n",
    "#     fs1, data1 = wavfile.read(filename1)\n",
    "#     fs2, data2 = wavfile.read(filename2)\n",
    "    \n",
    "#     print(\"Original Audio: \")\n",
    "#     display(Audio(data1, rate=fs1))\n",
    "\n",
    "#     nperseg = int(0.1 * fs1)\n",
    "#     noverlap = nperseg // 2\n",
    "\n",
    "#     f, t, Z1 = stft(data1, fs = fs1, nperseg=nperseg, noverlap=noverlap)\n",
    "#     _, _, Z2 = stft(data2, fs = fs2, nperseg=nperseg, noverlap=noverlap)\n",
    "\n",
    "#     f[f == 0] = 1e-10\n",
    "\n",
    "#     stft_ratio = Z1 / (Z2 + 1e-10)\n",
    "#     logged_ratio  = np.log(stft_ratio + 1e-10)\n",
    "#     imag_ratio = np.imag(logged_ratio)\n",
    "#     delta_phase = np.unwrap(imag_ratio / f[:, np.newaxis])\n",
    "\n",
    "#     # Flatten for histogram\n",
    "#     delta_phase_flatten = delta_phase.flatten()\n",
    "\n",
    "#     # Create histogram\n",
    "#     num_bins = 100  # Adjust as needed\n",
    "#     counts, bin_edges = np.histogram(delta_phase_flatten, bins=num_bins)\n",
    "\n",
    "#     # Find the indices of the NUM_SOURCES largest bins\n",
    "#     largest_bins = np.argsort(counts)[-NUM_SOURCES:][::-1]  # Get indices of top N bins (descending)\n",
    "\n",
    "#     # Get the bin centers corresponding to the largest bins (most dominant phase values)\n",
    "#     bin_centers = (bin_edges[:-1] + bin_edges[1:]) / 2\n",
    "#     largest_values = bin_centers[largest_bins]  # Now contains NUM_SOURCES largest phases\n",
    "\n",
    "#     print(f\"Largest {NUM_SOURCES} phase values: {largest_values}\")\n",
    "\n",
    "#     # Compute absolute differences for all sources\n",
    "#     diffs = np.abs(delta_phase[..., np.newaxis] - largest_values)  # Shape: (freq, time, sources)\n",
    "\n",
    "#     # Assign each time-frequency bin to the closest source\n",
    "#     assigned_source = np.argmin(diffs, axis=-1)  # Returns index of closest phase value (0 to NUM_SOURCES-1)\n",
    "\n",
    "#     # Initialize masks and separated STFTs\n",
    "#     masks = [(assigned_source == i) for i in range(NUM_SOURCES)]  # List of boolean masks\n",
    "#     separated_sources = [Z1 * mask for mask in masks]  # Apply each mask to STFT data\n",
    "\n",
    "#     # Reconstruct time-domain signals using inverse STFT\n",
    "#     separated_signals = [istft(separated_sources[i], fs=fs1, nperseg=nperseg, noverlap=noverlap)[1] for i in range(NUM_SOURCES)]\n",
    "\n",
    "#     # Normalize and save each separated source\n",
    "#     for i in range(NUM_SOURCES):\n",
    "#         separated_signals[i] /= np.abs(np.max(separated_signals[i]))  # Normalize\n",
    "#         filename = f\"source{i+1}.wav\"\n",
    "#         write(filename, fs1, (separated_signals[i] * 32767).astype(np.int16))\n",
    "#         print(f\"Saved: {filename}\")\n",
    "\n",
    "#     # Play the separated sources\n",
    "#     for i in range(NUM_SOURCES):\n",
    "#         print(f\"Playing Source {i+1}:\")\n",
    "#         display(Audio(f\"source{i+1}.wav\", rate=fs1))\n",
    "\n",
    "\n",
    "# # # Plot spectrogram\n",
    "# # plt.figure(figsize=(10, 5))\n",
    "# # plt.pcolormesh(t, f, np.abs(Z1), shading='gouraud', cmap=\"inferno\")\n",
    "# # plt.colorbar(label=\"Magnitude\")\n",
    "# # plt.title(\"Spectrogram (STFT)\")\n",
    "# # plt.xlabel(\"Time [s]\")\n",
    "# # plt.ylabel(\"Frequency [Hz]\")\n",
    "# # plt.show()\n",
    "\n",
    "# # plt.figure(figsize=(10, 5))\n",
    "# # plt.pcolormesh(t, f, np.abs(Z1_source1), shading='gouraud', cmap=\"inferno\")\n",
    "# # plt.colorbar(label=\"Magnitude\")\n",
    "# # plt.title(\"Spectrogram (STFT)\")\n",
    "# # plt.xlabel(\"Time [s]\")\n",
    "# # plt.ylabel(\"Frequency [Hz]\")\n",
    "# # plt.show()\n",
    "\n",
    "# # # plt.figure(figsize=(10, 5))\n",
    "# # plt.pcolormesh(t, f, delta_phase, shading='gouraud', cmap=\"inferno\")\n",
    "# # plt.colorbar(label=\"Magnitude\")\n",
    "# # plt.title(\"Spectrogram (STFT)\")\n",
    "# # plt.xlabel(\"Time [s]\")\n",
    "# # plt.ylabel(\"Frequency [Hz]\")\n",
    "# # plt.show()\n",
    "\n",
    "# # #Plot histogram\n",
    "# # plt.hist(delta_phase_flatten, bins=500, density=True, alpha=0.75, color='b')\n",
    "# # plt.xlabel(\"Phase Difference (TDOA)\")\n",
    "# # plt.ylabel(\"Density\")\n",
    "# # plt.title(\"Histogram of Phase Differences for Source Separation\")\n",
    "# # plt.show()\n",
    "\n",
    "#     return separated_signals\n",
    "# duet_source_separation(\"dataset1\", 1)\n",
    "# duet_source_separation(\"dataset2\", 2)\n",
    "# duet_source_separation(\"dataset3\", 3)"
   ]
  },
  {
   "cell_type": "markdown",
   "metadata": {},
   "source": []
  },
  {
   "cell_type": "code",
   "execution_count": 69,
   "metadata": {
    "id": "UisT3IqdddUL"
   },
   "outputs": [],
   "source": [
    "def duet_source_separation(mic_data_folder, NUM_SOURCES):\n",
    "    \"\"\"DUET source separation algorithm. Write your code here.\n",
    "\n",
    "    Args:\n",
    "        mic_data_folder: name of folder (without a trailing slash) containing \n",
    "                         two mic datafiles `0.wav` and `1.wav`.\n",
    "\n",
    "    Returns:\n",
    "        NUM_SOURCES * recording_length numpy array, where NUM_SOURCES is the number of sources,\n",
    "        and recording_length is the original length of the recording (in number of samples)\n",
    "\n",
    "    \"\"\"\n",
    "    filename1 = mic_data_folder + \"/0.wav\"\n",
    "    filename2 = mic_data_folder + \"/1.wav\"\n",
    "    fs1, data1 = wavfile.read(filename1)\n",
    "    fs2, data2 = wavfile.read(filename2)\n",
    "    \n",
    "    # print(\"Original Audio: \")\n",
    "    # display(Audio(data1, rate=fs1))\n",
    "\n",
    "    nperseg = int(0.1 * fs1)\n",
    "    noverlap = nperseg // 2\n",
    "\n",
    "    f, t, Z1 = stft(data1, fs = fs1, nperseg=nperseg, noverlap=noverlap)\n",
    "    _, _, Z2 = stft(data2, fs = fs2, nperseg=nperseg, noverlap=noverlap)\n",
    "\n",
    "    f[f == 0] = 1e-10\n",
    "\n",
    "    stft_ratio = Z1 / (Z2 + 1e-10)\n",
    "    logged_ratio  = np.log(stft_ratio + 1e-10)\n",
    "    imag_ratio = np.imag(logged_ratio)\n",
    "    delta_phase = np.unwrap(imag_ratio / f[:, np.newaxis])\n",
    "\n",
    "    # Flatten for histogram\n",
    "    delta_phase_flatten = delta_phase.flatten()\n",
    "\n",
    "    # Create histogram\n",
    "    num_bins = 100  # Adjust as needed\n",
    "    counts, bin_edges = np.histogram(delta_phase_flatten, bins=num_bins)\n",
    "\n",
    "    # Find the indices of the NUM_SOURCES largest bins\n",
    "    largest_bins = np.argsort(counts)[-NUM_SOURCES:][::-1]  # Get indices of top N bins (descending)\n",
    "\n",
    "    # Get the bin centers corresponding to the largest bins (most dominant phase values)\n",
    "    bin_centers = (bin_edges[:-1] + bin_edges[1:]) / 2\n",
    "    largest_values = bin_centers[largest_bins]  # Now contains NUM_SOURCES largest phases\n",
    "\n",
    "    # print(f\"Largest {NUM_SOURCES} phase values: {largest_values}\")\n",
    "\n",
    "    # Compute absolute differences for all sources\n",
    "    diffs = np.abs(delta_phase[..., np.newaxis] - largest_values)  # Shape: (freq, time, sources)\n",
    "\n",
    "    # Assign each time-frequency bin to the closest source\n",
    "    assigned_source = np.argmin(diffs, axis=-1)  # Returns index of closest phase value (0 to NUM_SOURCES-1)\n",
    "\n",
    "    # Initialize masks and separated STFTs\n",
    "    masks = [(assigned_source == i) for i in range(NUM_SOURCES)]  # List of boolean masks\n",
    "    separated_sources = [Z1 * mask for mask in masks]  # Apply each mask to STFT data\n",
    "\n",
    "    # Reconstruct time-domain signals using inverse STFT\n",
    "    separated_signals = [istft(separated_sources[i], fs=fs1, nperseg=nperseg, noverlap=noverlap)[1] for i in range(NUM_SOURCES)]\n",
    "\n",
    "    # # Normalize and save each separated source\n",
    "    # for i in range(NUM_SOURCES):\n",
    "    #     separated_signals[i] /= np.abs(np.max(separated_signals[i]))  # Normalize\n",
    "    #     filename = f\"source{i+1}.wav\"\n",
    "    #     print((separated_signals[i] * 32767).astype(np.int16).shape, (separated_signals[i] * 32767).astype(np.int16).dtype)\n",
    "    #     write(filename, fs1, (separated_signals[i] * 32767).astype(np.int16))\n",
    "    #     print(f\"Saved: {filename}\")\n",
    "\n",
    "    # # Play the separated sources\n",
    "    # for i in range(NUM_SOURCES):\n",
    "    #     print(f\"Playing Source {i+1}:\")\n",
    "    #     display(Audio(f\"source{i+1}.wav\", rate=fs1))\n",
    "    outs = np.array(separated_signals)\n",
    "    outs = outs / outs.max(-1)[..., None]\n",
    "    outs = (0.1*outs * 32767 ).astype(np.int16)\n",
    "    \n",
    "    return outs"
   ]
  },
  {
   "cell_type": "markdown",
   "metadata": {
    "id": "Mysy5nucddUL"
   },
   "source": [
    "---\n",
    "## Running and Testing\n",
    "Use the cell below to run and test your code, and to get an estimate of your grade."
   ]
  },
  {
   "cell_type": "code",
   "execution_count": 71,
   "metadata": {
    "id": "CXQicdJJddUL"
   },
   "outputs": [
    {
     "data": {
      "text/html": [
       "<table><tr><td><h4>Dataset</h4><td><td><h4>Expected Output</h4><td><td><h4>Your Output</h4><td><td><h4>Grade</h4><td><td><h4>Points Awarded</h4><td></tr><tr><td><h4>1</h4><td><td><h4>{'hello how are you'}</h4><td><td><h4>{'hello how are you'}</h4><td><td><h4>100.00%</h4><td><td><h4>5.00 / 5.0</h4><td></tr><tr><td><h4>2</h4><td><td><h4>{'how are you', 'nice to meet you'}</h4><td><td><h4>{'how are you', 'nice to meet you'}</h4><td><td><h4>100.00%</h4><td><td><h4>5.00 / 5.0</h4><td></tr><tr><td><h4>3</h4><td><td><h4>{'how are you', 'nice to meet you', 'good morning'}</h4><td><td><h4>{'how are you', 'nice to meet you', 'good morning'}</h4><td><td><h4>100.00%</h4><td><td><h4>5.00 / 5.0</h4><td></tr><tr><td><h4><i>👻 Hidden test 1 👻</i></h4><td><td><h4><i>???</i></h4><td><td><h4><i>???</i></h4><td><td><h4><i>???</i></h4><td><td><h4><i>???</i> / 10.0</h4><td></tr><tr><td><h4><i>...</i></h4><td><td><h4><i>...</i></h4><td><td><h4><i>...</i></h4><td><td><h4><i>...</i></h4><td><td><h4><i>...</i></h4><td></tr><tr><td><h4><i>👻 Hidden test 7 👻</i></h4><td><td><h4><i>???</i></h4><td><td><h4><i>???</i></h4><td><td><h4><i>???</i></h4><td><td><h4><i>???</i> / 10.0</h4><td></tr></table>"
      ],
      "text/plain": [
       "<IPython.core.display.HTML object>"
      ]
     },
     "metadata": {},
     "output_type": "display_data"
    }
   ],
   "source": [
    "def calculate_score(calculated, expected):\n",
    "    student_result = set()\n",
    "    calculated = np.array(calculated)\n",
    "    if calculated.shape[0] != len(expected):\n",
    "      return 0, {'Incorrect number of sources!'}\n",
    "    for i in range(calculated.shape[0]):\n",
    "        scipy.io.wavfile.write(\"temp.wav\",22050,calculated[i,:])\n",
    "        r = sr.Recognizer()\n",
    "        with sr.AudioFile(\"temp.wav\") as source:\n",
    "            audio = r.record(source)\n",
    "        try:\n",
    "            text = r.recognize_sphinx(audio)\n",
    "            student_result.add(text.lower())\n",
    "        except:\n",
    "            student_result.add(\"Sphinx could not understand audio\")\n",
    "    score = len(student_result.intersection(expected))/len(expected)\n",
    "    return score, student_result\n",
    "     \n",
    "if __name__ == '__main__':\n",
    "    groundtruth = [{\"hello how are you\"}, {\"nice to meet you\",\"how are you\"}, {\"how are you\",\"good morning\",\"nice to meet you\"}]\n",
    "    \n",
    "    output = [['Dataset', 'Expected Output', 'Your Output', 'Grade', 'Points Awarded']]\n",
    "    for i in range(1,4):\n",
    "        directory_name = 'dataset{}'.format(i)\n",
    "        student_output = duet_source_separation(directory_name, i)\n",
    "        result = calculate_score(student_output, groundtruth[i-1])   \n",
    "        output.append([\n",
    "            str(i),\n",
    "            str(groundtruth[i-1]), \n",
    "            str(result[1]), \n",
    "            \"{:2.2f}%\".format(result[0] * 100),\n",
    "            \"{:1.2f} / 5.0\".format(result[0] * 5),\n",
    "        ])\n",
    "\n",
    "    output.append([\n",
    "        '<i>👻 Hidden test 1 👻</i>', \n",
    "        '<i>???</i>', \n",
    "        '<i>???</i>', \n",
    "        '<i>???</i>', \n",
    "        \"<i>???</i> / 10.0\"])\n",
    "    output.append([\n",
    "        '<i>...</i>', \n",
    "        '<i>...</i>', \n",
    "        '<i>...</i>', \n",
    "        '<i>...</i>', \n",
    "        \"<i>...</i>\"])\n",
    "    output.append([\n",
    "        '<i>👻 Hidden test 7 👻</i>', \n",
    "        '<i>???</i>', \n",
    "        '<i>???</i>', \n",
    "        '<i>???</i>', \n",
    "        \"<i>???</i> / 10.0\"])\n",
    "    display_table(output)"
   ]
  },
  {
   "cell_type": "markdown",
   "metadata": {
    "id": "gogDNdnbddUM"
   },
   "source": [
    "---\n",
    "## Rubric\n",
    "You will be graded on the three data points provided to you (5 points each) and seven additional data points under different settings(10 points each). We will use the same code from the **Running and Testing** section above to grade all 10 traces of data. We will run ASR on your output to see if it generates the corrected separated speech signal. Output order does not matter. Percentage of grade for each data point is based on how many sources you estimated correctly (i.e., assume there are n sources, then you will get $\\frac{1}{n} * 100\\%$ for each correctedly estimated source)."
   ]
  },
  {
   "cell_type": "markdown",
   "metadata": {
    "id": "a_ApDXSrddUM"
   },
   "source": [
    "---\n",
    "## Submission Guidlines\n",
    "This Jupyter notebook (`MP2.ipynb`) is the only file you need to submit on Gradescope. As mentioned earlier, you will only be graded using your implementation of the `duet_source_separation` function, which should only return the calculated **NOT** output any plots or data. \n",
    "\n",
    "**Make sure any code you added to this notebook, except for import statements, is either in a function or guarded by `__main__`(which won't be run by the autograder). Gradescope will give you immediate feedback using the provided test cases. It is your responsibility to check the output before the deadline to ensure your submission runs with the autograder.**"
   ]
  }
 ],
 "metadata": {
  "colab": {
   "provenance": []
  },
  "kernelspec": {
   "display_name": "myenv",
   "language": "python",
   "name": "python3"
  },
  "language_info": {
   "codemirror_mode": {
    "name": "ipython",
    "version": 3
   },
   "file_extension": ".py",
   "mimetype": "text/x-python",
   "name": "python",
   "nbconvert_exporter": "python",
   "pygments_lexer": "ipython3",
   "version": "3.10.0"
  }
 },
 "nbformat": 4,
 "nbformat_minor": 4
}
